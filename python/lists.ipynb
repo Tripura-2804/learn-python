{
 "cells": [
  {
   "cell_type": "markdown",
   "id": "68953dd4-0cd3-4e40-97d5-e584cdb3284a",
   "metadata": {},
   "source": [
    "### Lists"
   ]
  },
  {
   "cell_type": "code",
   "execution_count": null,
   "id": "72d274c9-1de8-4692-9207-70fdd8e93a5b",
   "metadata": {},
   "outputs": [],
   "source": [
    "l=[1,2,3,4,5]"
   ]
  },
  {
   "cell_type": "code",
   "execution_count": 3,
   "id": "869d9ffe-fbac-4085-a2f1-f87478f4333a",
   "metadata": {},
   "outputs": [],
   "source": [
    "l=[\"sudh\",\"kumar\",\"22stuchh010959\",9876545678,101.0678,5j+63]"
   ]
  },
  {
   "cell_type": "code",
   "execution_count": 4,
   "id": "9656eef7-000c-4ad0-b756-79800dad33ed",
   "metadata": {},
   "outputs": [
    {
     "data": {
      "text/plain": [
       "['sudh', 'kumar']"
      ]
     },
     "execution_count": 4,
     "metadata": {},
     "output_type": "execute_result"
    }
   ],
   "source": [
    "l[0:2]"
   ]
  },
  {
   "cell_type": "code",
   "execution_count": 5,
   "id": "3ea90969-7e8f-4b35-bc0e-fbdba0cc8711",
   "metadata": {},
   "outputs": [
    {
     "data": {
      "text/plain": [
       "[(63+5j), 101.0678, 9876545678, '22stuchh010959', 'kumar', 'sudh']"
      ]
     },
     "execution_count": 5,
     "metadata": {},
     "output_type": "execute_result"
    }
   ],
   "source": [
    "l[::-1]"
   ]
  },
  {
   "cell_type": "code",
   "execution_count": 6,
   "id": "7f1371c9-c305-4bc8-9a28-9746bc8d3bca",
   "metadata": {},
   "outputs": [
    {
     "data": {
      "text/plain": [
       "'d'"
      ]
     },
     "execution_count": 6,
     "metadata": {},
     "output_type": "execute_result"
    }
   ],
   "source": [
    "l[0][2]"
   ]
  },
  {
   "cell_type": "code",
   "execution_count": 7,
   "id": "36ecca98-9974-4f57-88da-34fc0f33a469",
   "metadata": {},
   "outputs": [
    {
     "data": {
      "text/plain": [
       "5.0"
      ]
     },
     "execution_count": 7,
     "metadata": {},
     "output_type": "execute_result"
    }
   ],
   "source": [
    "l[5].imag"
   ]
  },
  {
   "cell_type": "code",
   "execution_count": 8,
   "id": "90596314-a69f-4ba7-a9ab-6f344d1944d5",
   "metadata": {},
   "outputs": [],
   "source": [
    "l[0]=\"tripura\""
   ]
  },
  {
   "cell_type": "code",
   "execution_count": 9,
   "id": "3ce7c026-147a-45cf-9c2b-6c074b93647d",
   "metadata": {},
   "outputs": [
    {
     "data": {
      "text/plain": [
       "['tripura', 'kumar', '22stuchh010959', 9876545678, 101.0678, (63+5j)]"
      ]
     },
     "execution_count": 9,
     "metadata": {},
     "output_type": "execute_result"
    }
   ],
   "source": [
    "l#list mutable,string immutable"
   ]
  },
  {
   "cell_type": "code",
   "execution_count": 19,
   "id": "4587542f-79da-4149-b64e-c71cf580e166",
   "metadata": {},
   "outputs": [
    {
     "data": {
      "text/plain": [
       "False"
      ]
     },
     "execution_count": 19,
     "metadata": {},
     "output_type": "execute_result"
    }
   ],
   "source": [
    "345 in l"
   ]
  },
  {
   "cell_type": "code",
   "execution_count": 20,
   "id": "c2253ee6-5193-404d-9c56-9422222b5315",
   "metadata": {},
   "outputs": [
    {
     "data": {
      "text/plain": [
       "False"
      ]
     },
     "execution_count": 20,
     "metadata": {},
     "output_type": "execute_result"
    }
   ],
   "source": [
    "\"yes\" in l"
   ]
  },
  {
   "cell_type": "code",
   "execution_count": 21,
   "id": "921a0f46-c025-4785-8627-543c0b7e4bb5",
   "metadata": {},
   "outputs": [
    {
     "data": {
      "text/plain": [
       "True"
      ]
     },
     "execution_count": 21,
     "metadata": {},
     "output_type": "execute_result"
    }
   ],
   "source": [
    "\"tripura\" in l"
   ]
  },
  {
   "cell_type": "code",
   "execution_count": 22,
   "id": "c87a5a3e-ed9e-471a-b1c8-41df1069fb9e",
   "metadata": {},
   "outputs": [],
   "source": [
    "l.append([1,2,3,4])"
   ]
  },
  {
   "cell_type": "code",
   "execution_count": 23,
   "id": "da8c0521-33e4-43e0-8d03-2963b8265b71",
   "metadata": {},
   "outputs": [
    {
     "data": {
      "text/plain": [
       "['tripura',\n",
       " 'kumar',\n",
       " '22stuchh010959',\n",
       " 9876545678,\n",
       " 101.0678,\n",
       " (63+5j),\n",
       " [1, 2, 3, 4]]"
      ]
     },
     "execution_count": 23,
     "metadata": {},
     "output_type": "execute_result"
    }
   ],
   "source": [
    "l"
   ]
  },
  {
   "cell_type": "code",
   "execution_count": 24,
   "id": "f322a7d2-42fb-47c9-b414-0d27d4dc4083",
   "metadata": {},
   "outputs": [
    {
     "data": {
      "text/plain": [
       "[1, 2, 3, 4]"
      ]
     },
     "execution_count": 24,
     "metadata": {},
     "output_type": "execute_result"
    }
   ],
   "source": [
    "l.pop()"
   ]
  },
  {
   "cell_type": "code",
   "execution_count": 25,
   "id": "96057cc5-ad6e-449d-9e97-41dcfcfe8eda",
   "metadata": {},
   "outputs": [
    {
     "data": {
      "text/plain": [
       "'kumar'"
      ]
     },
     "execution_count": 25,
     "metadata": {},
     "output_type": "execute_result"
    }
   ],
   "source": [
    "l.pop(1)"
   ]
  },
  {
   "cell_type": "code",
   "execution_count": 26,
   "id": "7825f1c4-c5d3-4a11-8ba5-3b30afa8657d",
   "metadata": {},
   "outputs": [
    {
     "data": {
      "text/plain": [
       "['tripura', '22stuchh010959', 9876545678, 101.0678, (63+5j)]"
      ]
     },
     "execution_count": 26,
     "metadata": {},
     "output_type": "execute_result"
    }
   ],
   "source": [
    "l"
   ]
  },
  {
   "cell_type": "code",
   "execution_count": 27,
   "id": "5fab4780-0583-4701-8da0-ec2b8b9c001a",
   "metadata": {},
   "outputs": [],
   "source": [
    "l.insert(1,\"dfgh\")"
   ]
  },
  {
   "cell_type": "code",
   "execution_count": 28,
   "id": "cfe5fc72-e8ff-4916-8151-6a1f494d0356",
   "metadata": {},
   "outputs": [
    {
     "data": {
      "text/plain": [
       "['tripura', 'dfgh', '22stuchh010959', 9876545678, 101.0678, (63+5j)]"
      ]
     },
     "execution_count": 28,
     "metadata": {},
     "output_type": "execute_result"
    }
   ],
   "source": [
    "l"
   ]
  },
  {
   "cell_type": "code",
   "execution_count": 29,
   "id": "6dd4f46a-d3e0-47cf-9fb5-92992abdb8e4",
   "metadata": {},
   "outputs": [],
   "source": [
    "l2=[32345,[1,2,3,4,5],\"sdfgh\",\"wertg\",[12,34,987,5]]"
   ]
  },
  {
   "cell_type": "code",
   "execution_count": 30,
   "id": "58ebf195-30fd-4020-95c6-e20a1673bc14",
   "metadata": {},
   "outputs": [
    {
     "data": {
      "text/plain": [
       "4"
      ]
     },
     "execution_count": 30,
     "metadata": {},
     "output_type": "execute_result"
    }
   ],
   "source": [
    "l2[1][3]"
   ]
  },
  {
   "cell_type": "code",
   "execution_count": 31,
   "id": "74484ef0-f3b4-4621-81f2-4f3ddf72eca1",
   "metadata": {},
   "outputs": [],
   "source": [
    "l2.extend([2,3,465,\"sdfg\"])#extend will add the values in the same list"
   ]
  },
  {
   "cell_type": "code",
   "execution_count": 32,
   "id": "c005e91d-ab34-4041-9c6d-90166d7e3675",
   "metadata": {},
   "outputs": [
    {
     "data": {
      "text/plain": [
       "[32345, [1, 2, 3, 4, 5], 'sdfgh', 'wertg', [12, 34, 987, 5], 2, 3, 465, 'sdfg']"
      ]
     },
     "execution_count": 32,
     "metadata": {},
     "output_type": "execute_result"
    }
   ],
   "source": [
    "l2"
   ]
  },
  {
   "cell_type": "code",
   "execution_count": 33,
   "id": "19889016-3619-4748-a975-3549d9dcd158",
   "metadata": {},
   "outputs": [],
   "source": [
    "l2.append([1,2,78,678])#adds the whole list as it allows only value(one list)"
   ]
  },
  {
   "cell_type": "code",
   "execution_count": 34,
   "id": "aa7d9c70-0b52-4632-9e55-6fcf88dd9343",
   "metadata": {},
   "outputs": [
    {
     "data": {
      "text/plain": [
       "[32345,\n",
       " [1, 2, 3, 4, 5],\n",
       " 'sdfgh',\n",
       " 'wertg',\n",
       " [12, 34, 987, 5],\n",
       " 2,\n",
       " 3,\n",
       " 465,\n",
       " 'sdfg',\n",
       " [1, 2, 78, 678]]"
      ]
     },
     "execution_count": 34,
     "metadata": {},
     "output_type": "execute_result"
    }
   ],
   "source": [
    "l2"
   ]
  },
  {
   "cell_type": "code",
   "execution_count": 35,
   "id": "cbdb812f-bfa7-4c48-b96c-7dbbbc36121d",
   "metadata": {},
   "outputs": [
    {
     "data": {
      "text/plain": [
       "[1, 2, 3, 4, 5, 6, 7, 89]"
      ]
     },
     "execution_count": 35,
     "metadata": {},
     "output_type": "execute_result"
    }
   ],
   "source": [
    "[1,2,3,4]+[5,6,7,89]#works same as extend"
   ]
  },
  {
   "cell_type": "code",
   "execution_count": 36,
   "id": "2a1bc809-d24c-4056-bba1-7b2c30bf8bef",
   "metadata": {},
   "outputs": [
    {
     "data": {
      "text/plain": [
       "['fg', 'tyio', 'seftbjn', 'secfvgh', 'dfghdfgh']"
      ]
     },
     "execution_count": 36,
     "metadata": {},
     "output_type": "execute_result"
    }
   ],
   "source": [
    "'fg tyio seftbjn secfvgh dfghdfgh'.split()"
   ]
  },
  {
   "cell_type": "code",
   "execution_count": null,
   "id": "cf1c7478-bcc8-4e55-ba38-67b8e2e840f7",
   "metadata": {},
   "outputs": [],
   "source": []
  }
 ],
 "metadata": {
  "kernelspec": {
   "display_name": "Python 3 (ipykernel)",
   "language": "python",
   "name": "python3"
  },
  "language_info": {
   "codemirror_mode": {
    "name": "ipython",
    "version": 3
   },
   "file_extension": ".py",
   "mimetype": "text/x-python",
   "name": "python",
   "nbconvert_exporter": "python",
   "pygments_lexer": "ipython3",
   "version": "3.12.4"
  }
 },
 "nbformat": 4,
 "nbformat_minor": 5
}
