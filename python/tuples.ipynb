{
 "cells": [
  {
   "cell_type": "markdown",
   "id": "e095164b-53c1-48d6-b37e-1e78f82fd040",
   "metadata": {},
   "source": [
    "### Tuples"
   ]
  },
  {
   "cell_type": "code",
   "execution_count": 1,
   "id": "2689f3ee-dcf3-497b-90a1-b4bd9bdb72f1",
   "metadata": {},
   "outputs": [],
   "source": [
    "t=(1,2,3,4,5)#immutable"
   ]
  },
  {
   "cell_type": "code",
   "execution_count": 2,
   "id": "eb41f394-3924-4108-bfff-975c287fbc7a",
   "metadata": {},
   "outputs": [
    {
     "data": {
      "text/plain": [
       "tuple"
      ]
     },
     "execution_count": 2,
     "metadata": {},
     "output_type": "execute_result"
    }
   ],
   "source": [
    "type(t)"
   ]
  },
  {
   "cell_type": "code",
   "execution_count": 3,
   "id": "588478c7-632f-4577-8b20-3d2a012bba9b",
   "metadata": {},
   "outputs": [],
   "source": [
    "t1=(1,\"qwertuy\",3234.345,45+65j,True)\n",
    "l=[1,\"qwertuy\",3234.345,45+65j,True]#mutable"
   ]
  },
  {
   "cell_type": "code",
   "execution_count": 4,
   "id": "eb0402c6-5fe4-49d9-9f85-e3aae8cb9cc2",
   "metadata": {},
   "outputs": [
    {
     "data": {
      "text/plain": [
       "[1, 'qwertuy']"
      ]
     },
     "execution_count": 4,
     "metadata": {},
     "output_type": "execute_result"
    }
   ],
   "source": [
    "l[0:2]"
   ]
  },
  {
   "cell_type": "code",
   "execution_count": 5,
   "id": "50017352-086e-42e4-bb15-f24a9f3ec595",
   "metadata": {},
   "outputs": [
    {
     "data": {
      "text/plain": [
       "(1, 'qwertuy')"
      ]
     },
     "execution_count": 5,
     "metadata": {},
     "output_type": "execute_result"
    }
   ],
   "source": [
    "t1[0:2]"
   ]
  },
  {
   "cell_type": "code",
   "execution_count": 6,
   "id": "9506e54a-2f15-4de2-8429-7204c92c8c75",
   "metadata": {},
   "outputs": [
    {
     "data": {
      "text/plain": [
       "(True, (45+65j), 3234.345, 'qwertuy', 1)"
      ]
     },
     "execution_count": 6,
     "metadata": {},
     "output_type": "execute_result"
    }
   ],
   "source": [
    "t1[::-1]"
   ]
  },
  {
   "cell_type": "code",
   "execution_count": 7,
   "id": "0a324116-ba93-4a32-9724-fd47b7256964",
   "metadata": {},
   "outputs": [],
   "source": [
    "l2=list(t1)"
   ]
  },
  {
   "cell_type": "code",
   "execution_count": 8,
   "id": "fd761d51-7daf-45c9-8b05-1eec95cb021f",
   "metadata": {},
   "outputs": [],
   "source": [
    "l2[0]=\"sdf\""
   ]
  },
  {
   "cell_type": "code",
   "execution_count": 9,
   "id": "f45e93c9-9c23-4d5b-9fe3-9e684e73505a",
   "metadata": {},
   "outputs": [
    {
     "data": {
      "text/plain": [
       "['sdf', 'qwertuy', 3234.345, (45+65j), True]"
      ]
     },
     "execution_count": 9,
     "metadata": {},
     "output_type": "execute_result"
    }
   ],
   "source": [
    "l2"
   ]
  },
  {
   "cell_type": "code",
   "execution_count": 10,
   "id": "980ac81e-f640-45db-a341-f508ca6a9a60",
   "metadata": {},
   "outputs": [],
   "source": [
    "t2=tuple(l2)"
   ]
  },
  {
   "cell_type": "code",
   "execution_count": 11,
   "id": "9f00efd5-343c-4e85-aa4a-31f204d7deb6",
   "metadata": {},
   "outputs": [
    {
     "data": {
      "text/plain": [
       "('sdf', 'qwertuy', 3234.345, (45+65j), True)"
      ]
     },
     "execution_count": 11,
     "metadata": {},
     "output_type": "execute_result"
    }
   ],
   "source": [
    "t2"
   ]
  },
  {
   "cell_type": "code",
   "execution_count": 12,
   "id": "5e2a49b6-2feb-4a55-a54f-e22bc5abedd7",
   "metadata": {},
   "outputs": [
    {
     "data": {
      "text/plain": [
       "(1,\n",
       " 'qwertuy',\n",
       " 3234.345,\n",
       " (45+65j),\n",
       " True,\n",
       " 'sdf',\n",
       " 'qwertuy',\n",
       " 3234.345,\n",
       " (45+65j),\n",
       " True)"
      ]
     },
     "execution_count": 12,
     "metadata": {},
     "output_type": "execute_result"
    }
   ],
   "source": [
    "t1+t2"
   ]
  },
  {
   "cell_type": "code",
   "execution_count": 13,
   "id": "8cfea60c-cb5d-4478-a335-ad7cf424dc13",
   "metadata": {},
   "outputs": [
    {
     "data": {
      "text/plain": [
       "[1,\n",
       " 'qwertuy',\n",
       " 3234.345,\n",
       " (45+65j),\n",
       " True,\n",
       " 'sdf',\n",
       " 'qwertuy',\n",
       " 3234.345,\n",
       " (45+65j),\n",
       " True]"
      ]
     },
     "execution_count": 13,
     "metadata": {},
     "output_type": "execute_result"
    }
   ],
   "source": [
    "l+l2"
   ]
  },
  {
   "cell_type": "code",
   "execution_count": 14,
   "id": "a065f1c0-ca99-4ea0-97e8-1d109c950fb5",
   "metadata": {},
   "outputs": [
    {
     "data": {
      "text/plain": [
       "0"
      ]
     },
     "execution_count": 14,
     "metadata": {},
     "output_type": "execute_result"
    }
   ],
   "source": [
    "t1.index(1)"
   ]
  },
  {
   "cell_type": "code",
   "execution_count": 15,
   "id": "05f781a4-f400-470f-9b8e-77f314481628",
   "metadata": {},
   "outputs": [
    {
     "data": {
      "text/plain": [
       "2"
      ]
     },
     "execution_count": 15,
     "metadata": {},
     "output_type": "execute_result"
    }
   ],
   "source": [
    "t1.count(True)"
   ]
  },
  {
   "cell_type": "code",
   "execution_count": 16,
   "id": "fdb0a662-3038-4023-a27f-0d33ef9bf4be",
   "metadata": {},
   "outputs": [],
   "source": [
    "t=(1,2,3,\"asdfg\", 4,(12,34,45),[\"KJHg\",123])"
   ]
  },
  {
   "cell_type": "code",
   "execution_count": 17,
   "id": "379ad775-378c-4b58-aa34-18d4c1d09d0e",
   "metadata": {},
   "outputs": [],
   "source": [
    "l=[1,[\"qti\",0.345,234],(\"qewrty\",2345)]"
   ]
  },
  {
   "cell_type": "code",
   "execution_count": 23,
   "id": "f02d2897-c4d3-4211-8c66-b599d0abf3bc",
   "metadata": {},
   "outputs": [],
   "source": [
    "#l[2][0]=\"abd\" \"tuple in list dosn't change\""
   ]
  },
  {
   "cell_type": "code",
   "execution_count": null,
   "id": "4210b574-d74c-4e66-a68a-d7705a09af08",
   "metadata": {},
   "outputs": [],
   "source": []
  }
 ],
 "metadata": {
  "kernelspec": {
   "display_name": "Python 3 (ipykernel)",
   "language": "python",
   "name": "python3"
  },
  "language_info": {
   "codemirror_mode": {
    "name": "ipython",
    "version": 3
   },
   "file_extension": ".py",
   "mimetype": "text/x-python",
   "name": "python",
   "nbconvert_exporter": "python",
   "pygments_lexer": "ipython3",
   "version": "3.12.4"
  }
 },
 "nbformat": 4,
 "nbformat_minor": 5
}
