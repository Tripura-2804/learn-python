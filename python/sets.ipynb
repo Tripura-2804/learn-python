{
 "cells": [
  {
   "cell_type": "markdown",
   "id": "46aabe1e-8516-4b52-84b3-7edf601e0d04",
   "metadata": {},
   "source": [
    "### Sets"
   ]
  },
  {
   "cell_type": "code",
   "execution_count": 7,
   "id": "f723e14c-e218-42ab-816c-08b67c8c9249",
   "metadata": {},
   "outputs": [],
   "source": [
    "l=[1,2,1,2,2,3,4,5,6,55,5,5,5,5,5,2,2,2,4,4,4]"
   ]
  },
  {
   "cell_type": "code",
   "execution_count": 5,
   "id": "1f512fde-a5ba-451f-b5e8-23a50d96d04b",
   "metadata": {},
   "outputs": [
    {
     "data": {
      "text/plain": [
       "{1, 2, 3, 4, 5, 6, 55}"
      ]
     },
     "execution_count": 5,
     "metadata": {},
     "output_type": "execute_result"
    }
   ],
   "source": [
    "set(l)#set removes duplicates"
   ]
  },
  {
   "cell_type": "code",
   "execution_count": 6,
   "id": "390311d1-bef0-404d-b7e9-2a1f9dd4e19c",
   "metadata": {},
   "outputs": [],
   "source": [
    "s={}#set is an unordered collection "
   ]
  },
  {
   "cell_type": "code",
   "execution_count": 4,
   "id": "6ccc092d-5940-4a64-bcda-1fc3ff571e2d",
   "metadata": {},
   "outputs": [
    {
     "data": {
      "text/plain": [
       "dict"
      ]
     },
     "execution_count": 4,
     "metadata": {},
     "output_type": "execute_result"
    }
   ],
   "source": [
    "type(s)"
   ]
  },
  {
   "cell_type": "code",
   "execution_count": 6,
   "id": "36bbad10-9a03-4e44-b412-43f66579328e",
   "metadata": {},
   "outputs": [],
   "source": [
    "s1={1,2,6,7,5,3}"
   ]
  },
  {
   "cell_type": "code",
   "execution_count": 7,
   "id": "a9451ce6-694c-4151-999b-d065d37da084",
   "metadata": {},
   "outputs": [
    {
     "data": {
      "text/plain": [
       "set"
      ]
     },
     "execution_count": 7,
     "metadata": {},
     "output_type": "execute_result"
    }
   ],
   "source": [
    "type(s1)"
   ]
  },
  {
   "cell_type": "code",
   "execution_count": 9,
   "id": "d46d5af7-3fe7-4ad6-9a88-c337de623602",
   "metadata": {},
   "outputs": [],
   "source": [
    "l3=list(s1)"
   ]
  },
  {
   "cell_type": "code",
   "execution_count": 10,
   "id": "cc0c8d1a-f4dd-44cb-bf2d-9f715fdd1dba",
   "metadata": {},
   "outputs": [
    {
     "data": {
      "text/plain": [
       "1"
      ]
     },
     "execution_count": 10,
     "metadata": {},
     "output_type": "execute_result"
    }
   ],
   "source": [
    "l3[0]"
   ]
  },
  {
   "cell_type": "code",
   "execution_count": 14,
   "id": "99d09454-856f-474d-b218-d9dd08365079",
   "metadata": {},
   "outputs": [],
   "source": [
    "s1.clear()"
   ]
  },
  {
   "cell_type": "code",
   "execution_count": 15,
   "id": "ab522c43-f38e-4b09-a1b5-3e4883e2a82a",
   "metadata": {},
   "outputs": [
    {
     "data": {
      "text/plain": [
       "set()"
      ]
     },
     "execution_count": 15,
     "metadata": {},
     "output_type": "execute_result"
    }
   ],
   "source": [
    "s1"
   ]
  },
  {
   "cell_type": "code",
   "execution_count": 17,
   "id": "77d52cdd-daba-421c-b18b-ebe1c7efdd9a",
   "metadata": {},
   "outputs": [],
   "source": [
    "s2={123,3456,5678}"
   ]
  },
  {
   "cell_type": "code",
   "execution_count": 23,
   "id": "e06926f2-e8cf-4b30-ada4-25dab3c6a2e8",
   "metadata": {},
   "outputs": [
    {
     "data": {
      "text/plain": [
       "set()"
      ]
     },
     "execution_count": 23,
     "metadata": {},
     "output_type": "execute_result"
    }
   ],
   "source": [
    "s1.copy()"
   ]
  },
  {
   "cell_type": "code",
   "execution_count": 21,
   "id": "29ebeaa3-40f1-4064-a172-eee6418bb60c",
   "metadata": {},
   "outputs": [],
   "source": [
    "s2.remove(123)"
   ]
  },
  {
   "cell_type": "code",
   "execution_count": 22,
   "id": "969c99c3-058b-4e1f-95af-843383ac068b",
   "metadata": {},
   "outputs": [
    {
     "data": {
      "text/plain": [
       "{3456, 5678}"
      ]
     },
     "execution_count": 22,
     "metadata": {},
     "output_type": "execute_result"
    }
   ],
   "source": [
    "s2"
   ]
  },
  {
   "cell_type": "code",
   "execution_count": 24,
   "id": "11ccd08f-2bde-45b1-bf8a-27394fd98801",
   "metadata": {},
   "outputs": [],
   "source": [
    "s2.discard(45)"
   ]
  },
  {
   "cell_type": "code",
   "execution_count": 25,
   "id": "c867d8ae-9285-4bef-b23c-5e51d6ae87ef",
   "metadata": {},
   "outputs": [
    {
     "data": {
      "text/plain": [
       "{3456, 5678}"
      ]
     },
     "execution_count": 25,
     "metadata": {},
     "output_type": "execute_result"
    }
   ],
   "source": [
    "s2"
   ]
  },
  {
   "cell_type": "code",
   "execution_count": 26,
   "id": "0c17c52c-c33f-446a-b987-aeb12c47b036",
   "metadata": {},
   "outputs": [],
   "source": [
    "s2.add(8765)"
   ]
  },
  {
   "cell_type": "code",
   "execution_count": 27,
   "id": "8f54eb9c-ed98-4720-9f53-20a760e9e4c3",
   "metadata": {},
   "outputs": [
    {
     "data": {
      "text/plain": [
       "{3456, 5678, 8765}"
      ]
     },
     "execution_count": 27,
     "metadata": {},
     "output_type": "execute_result"
    }
   ],
   "source": [
    "s2"
   ]
  },
  {
   "cell_type": "code",
   "execution_count": 28,
   "id": "c717c6ca-62ea-407a-ae9d-ed7331b9a375",
   "metadata": {},
   "outputs": [
    {
     "data": {
      "text/plain": [
       "{3456, 5678, 8765}"
      ]
     },
     "execution_count": 28,
     "metadata": {},
     "output_type": "execute_result"
    }
   ],
   "source": [
    "s2.copy()"
   ]
  }
 ],
 "metadata": {
  "kernelspec": {
   "display_name": "Python 3 (ipykernel)",
   "language": "python",
   "name": "python3"
  },
  "language_info": {
   "codemirror_mode": {
    "name": "ipython",
    "version": 3
   },
   "file_extension": ".py",
   "mimetype": "text/x-python",
   "name": "python",
   "nbconvert_exporter": "python",
   "pygments_lexer": "ipython3",
   "version": "3.12.4"
  }
 },
 "nbformat": 4,
 "nbformat_minor": 5
}
