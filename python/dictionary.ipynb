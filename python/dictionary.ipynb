{
 "cells": [
  {
   "cell_type": "markdown",
   "id": "70db6e3f-71d3-4eaf-b65f-46ce52428fcd",
   "metadata": {},
   "source": [
    "### Dictionary"
   ]
  },
  {
   "cell_type": "code",
   "execution_count": 1,
   "id": "e7a96700-62c1-4038-992c-a5b9082c36c9",
   "metadata": {},
   "outputs": [],
   "source": [
    "me={\"name\":\"meenakshi\",\"age\":32,\"class\":10,\"salary\":35000}"
   ]
  },
  {
   "cell_type": "code",
   "execution_count": 2,
   "id": "48b8883e-9843-4581-bb5f-64895b224665",
   "metadata": {},
   "outputs": [
    {
     "data": {
      "text/plain": [
       "dict"
      ]
     },
     "execution_count": 2,
     "metadata": {},
     "output_type": "execute_result"
    }
   ],
   "source": [
    "type(me)"
   ]
  },
  {
   "cell_type": "code",
   "execution_count": 3,
   "id": "6089c0aa-d2f1-4a1b-a042-04c595016de0",
   "metadata": {},
   "outputs": [
    {
     "data": {
      "text/plain": [
       "'meenakshi'"
      ]
     },
     "execution_count": 3,
     "metadata": {},
     "output_type": "execute_result"
    }
   ],
   "source": [
    "me['name']"
   ]
  },
  {
   "cell_type": "code",
   "execution_count": 4,
   "id": "87b5efe8-fb57-4dfa-9190-7b3886f7b948",
   "metadata": {},
   "outputs": [],
   "source": [
    "l=[123,\"wert\",\"asd\",\"qwerty\",987]"
   ]
  },
  {
   "cell_type": "code",
   "execution_count": 5,
   "id": "a40a29c2-e626-4b7f-bfd0-fa553edbd373",
   "metadata": {},
   "outputs": [
    {
     "data": {
      "text/plain": [
       "list"
      ]
     },
     "execution_count": 5,
     "metadata": {},
     "output_type": "execute_result"
    }
   ],
   "source": [
    "type(l)"
   ]
  },
  {
   "cell_type": "code",
   "execution_count": 6,
   "id": "f6f51465-7103-4d63-b082-41708e4b0625",
   "metadata": {},
   "outputs": [],
   "source": [
    "t1=(\"ali\",123,[456,765,0.98],98)"
   ]
  },
  {
   "cell_type": "code",
   "execution_count": 7,
   "id": "f1683a80-083d-42ee-a374-dd9bd3413e2e",
   "metadata": {},
   "outputs": [],
   "source": [
    "s={\"fgh\",\"iuhg\",2,56}"
   ]
  },
  {
   "cell_type": "code",
   "execution_count": 8,
   "id": "0ffb800b-3cb5-42ec-b83a-6e85beb2f3f1",
   "metadata": {},
   "outputs": [],
   "source": [
    "d={\"fghj\":'hg','lkj':'pkn',87:[1,2,3,4],3:(1,2,3),4:{1,2,3}}#key:value pair\n"
   ]
  },
  {
   "cell_type": "code",
   "execution_count": 9,
   "id": "cb85e28e-9638-4e21-84b4-f7d27aa1ee9a",
   "metadata": {},
   "outputs": [
    {
     "data": {
      "text/plain": [
       "dict"
      ]
     },
     "execution_count": 9,
     "metadata": {},
     "output_type": "execute_result"
    }
   ],
   "source": [
    "type(d)"
   ]
  },
  {
   "cell_type": "code",
   "execution_count": 10,
   "id": "7149c724-014b-4e13-ac43-da3c901f340b",
   "metadata": {},
   "outputs": [
    {
     "data": {
      "text/plain": [
       "tuple"
      ]
     },
     "execution_count": 10,
     "metadata": {},
     "output_type": "execute_result"
    }
   ],
   "source": [
    "type(t1)"
   ]
  },
  {
   "cell_type": "code",
   "execution_count": 12,
   "id": "cb0aed32-0943-4118-ba1a-6d14d3040b08",
   "metadata": {},
   "outputs": [],
   "source": [
    "d1={\"@\":{1:12,3:456},'#':{1:3456,2:98},\"_\":9,0:0.987}"
   ]
  },
  {
   "cell_type": "code",
   "execution_count": 13,
   "id": "a3b83d36-0f94-4e65-b8a5-260f5ac85ec2",
   "metadata": {},
   "outputs": [
    {
     "data": {
      "text/plain": [
       "dict"
      ]
     },
     "execution_count": 13,
     "metadata": {},
     "output_type": "execute_result"
    }
   ],
   "source": [
    "type(d1)"
   ]
  },
  {
   "cell_type": "code",
   "execution_count": 14,
   "id": "5d01569d-a052-491f-87df-461663a81a82",
   "metadata": {},
   "outputs": [
    {
     "data": {
      "text/plain": [
       "{'@': {1: 12, 3: 456}, '#': {1: 3456, 2: 98}, '_': 9, 0: 0.987}"
      ]
     },
     "execution_count": 14,
     "metadata": {},
     "output_type": "execute_result"
    }
   ],
   "source": [
    "d1"
   ]
  }
 ],
 "metadata": {
  "kernelspec": {
   "display_name": "Python 3 (ipykernel)",
   "language": "python",
   "name": "python3"
  },
  "language_info": {
   "codemirror_mode": {
    "name": "ipython",
    "version": 3
   },
   "file_extension": ".py",
   "mimetype": "text/x-python",
   "name": "python",
   "nbconvert_exporter": "python",
   "pygments_lexer": "ipython3",
   "version": "3.12.4"
  }
 },
 "nbformat": 4,
 "nbformat_minor": 5
}
