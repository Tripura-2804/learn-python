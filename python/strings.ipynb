{
 "cells": [
  {
   "cell_type": "code",
   "execution_count": 1,
   "id": "48318754-e2e7-46f6-9a58-69989f487a3b",
   "metadata": {},
   "outputs": [
    {
     "data": {
      "text/plain": [
       "4"
      ]
     },
     "execution_count": 1,
     "metadata": {},
     "output_type": "execute_result"
    }
   ],
   "source": [
    "1+3"
   ]
  },
  {
   "cell_type": "code",
   "execution_count": 2,
   "id": "312f9c59-cd22-4091-98e2-3c561ccaa22a",
   "metadata": {},
   "outputs": [
    {
     "data": {
      "text/plain": [
       "'C:\\\\Users\\\\acer'"
      ]
     },
     "execution_count": 2,
     "metadata": {},
     "output_type": "execute_result"
    }
   ],
   "source": [
    "pwd"
   ]
  },
  {
   "cell_type": "code",
   "execution_count": 1,
   "id": "37ac5c59-231c-47aa-9e01-84d7b7b6923e",
   "metadata": {},
   "outputs": [
    {
     "data": {
      "text/plain": [
       "<function dir>"
      ]
     },
     "execution_count": 1,
     "metadata": {},
     "output_type": "execute_result"
    }
   ],
   "source": [
    "dir"
   ]
  },
  {
   "cell_type": "code",
   "execution_count": 2,
   "id": "b767b0ed-3cd9-4a4b-8f7c-e47eab2a374b",
   "metadata": {},
   "outputs": [
    {
     "data": {
      "text/plain": [
       "'C:/Users/acer/OneDrive/Documents/parcpy'"
      ]
     },
     "execution_count": 2,
     "metadata": {},
     "output_type": "execute_result"
    }
   ],
   "source": [
    "\"C:/Users/acer/OneDrive/Documents/parcpy\""
   ]
  },
  {
   "cell_type": "code",
   "execution_count": 3,
   "id": "5f876906-fcfb-4e87-a979-19e8eb4c4f34",
   "metadata": {},
   "outputs": [
    {
     "data": {
      "text/plain": [
       "'C:\\\\Users\\\\acer'"
      ]
     },
     "execution_count": 3,
     "metadata": {},
     "output_type": "execute_result"
    }
   ],
   "source": [
    "pwd"
   ]
  },
  {
   "cell_type": "code",
   "execution_count": 1,
   "id": "33b0eae6-6db9-48b2-a702-1f2010fa5a28",
   "metadata": {},
   "outputs": [
    {
     "data": {
      "text/plain": [
       "'C:\\\\Users\\\\acer\\\\OneDrive\\\\Documents\\\\parcpy\\\\python'"
      ]
     },
     "execution_count": 1,
     "metadata": {},
     "output_type": "execute_result"
    }
   ],
   "source": [
    "pwd"
   ]
  },
  {
   "cell_type": "code",
   "execution_count": 2,
   "id": "e0ce2a2e-2e39-48f4-9419-62aa9a6d1a6d",
   "metadata": {},
   "outputs": [
    {
     "name": "stdout",
     "output_type": "stream",
     "text": [
      "The Zen of Python, by Tim Peters\n",
      "\n",
      "Beautiful is better than ugly.\n",
      "Explicit is better than implicit.\n",
      "Simple is better than complex.\n",
      "Complex is better than complicated.\n",
      "Flat is better than nested.\n",
      "Sparse is better than dense.\n",
      "Readability counts.\n",
      "Special cases aren't special enough to break the rules.\n",
      "Although practicality beats purity.\n",
      "Errors should never pass silently.\n",
      "Unless explicitly silenced.\n",
      "In the face of ambiguity, refuse the temptation to guess.\n",
      "There should be one-- and preferably only one --obvious way to do it.\n",
      "Although that way may not be obvious at first unless you're Dutch.\n",
      "Now is better than never.\n",
      "Although never is often better than *right* now.\n",
      "If the implementation is hard to explain, it's a bad idea.\n",
      "If the implementation is easy to explain, it may be a good idea.\n",
      "Namespaces are one honking great idea -- let's do more of those!\n"
     ]
    }
   ],
   "source": [
    "import this"
   ]
  },
  {
   "cell_type": "code",
   "execution_count": 3,
   "id": "57563b0a-5698-489f-be91-f6a86bf59017",
   "metadata": {},
   "outputs": [
    {
     "name": "stdout",
     "output_type": "stream",
     "text": [
      "this is my project\n"
     ]
    }
   ],
   "source": [
    "print(\"this is my project\")"
   ]
  },
  {
   "cell_type": "code",
   "execution_count": 4,
   "id": "534ce197-fafa-46db-9d0f-d2852bce88c5",
   "metadata": {},
   "outputs": [
    {
     "data": {
      "text/plain": [
       "1"
      ]
     },
     "execution_count": 4,
     "metadata": {},
     "output_type": "execute_result"
    }
   ],
   "source": [
    "len(\"7\")"
   ]
  },
  {
   "cell_type": "code",
   "execution_count": 5,
   "id": "10f210c3-a4c2-4f75-9fb0-0f81dd2865c4",
   "metadata": {},
   "outputs": [
    {
     "data": {
      "text/plain": [
       "12"
      ]
     },
     "execution_count": 5,
     "metadata": {},
     "output_type": "execute_result"
    }
   ],
   "source": [
    "len(\"asdfgh dfghj\")"
   ]
  },
  {
   "cell_type": "code",
   "execution_count": 8,
   "id": "6d509d9e-e662-42af-a9e9-515eec5ffaeb",
   "metadata": {},
   "outputs": [],
   "source": [
    "a=1+3"
   ]
  },
  {
   "cell_type": "code",
   "execution_count": 9,
   "id": "791c1f14-83c9-4727-a3bd-c0bd2173b5be",
   "metadata": {},
   "outputs": [
    {
     "name": "stdout",
     "output_type": "stream",
     "text": [
      "11\n"
     ]
    }
   ],
   "source": [
    "print(a+7)"
   ]
  },
  {
   "cell_type": "code",
   "execution_count": 13,
   "id": "b9d48281-2b47-4122-a83d-3beb22b467d0",
   "metadata": {},
   "outputs": [
    {
     "data": {
      "text/plain": [
       "int"
      ]
     },
     "execution_count": 13,
     "metadata": {},
     "output_type": "execute_result"
    }
   ],
   "source": [
    "type(a)"
   ]
  },
  {
   "cell_type": "code",
   "execution_count": 14,
   "id": "36e74f37-2473-4d38-a76d-33c2709cfda6",
   "metadata": {},
   "outputs": [],
   "source": [
    "b=\"asfgh\""
   ]
  },
  {
   "cell_type": "code",
   "execution_count": 15,
   "id": "2109a766-6912-48e3-b0a8-48707110f171",
   "metadata": {},
   "outputs": [
    {
     "data": {
      "text/plain": [
       "str"
      ]
     },
     "execution_count": 15,
     "metadata": {},
     "output_type": "execute_result"
    }
   ],
   "source": [
    "type(b)"
   ]
  },
  {
   "cell_type": "code",
   "execution_count": 16,
   "id": "5aec5a69-0122-478d-bf90-a96f7c5dbdfd",
   "metadata": {},
   "outputs": [],
   "source": [
    "c=0.7654"
   ]
  },
  {
   "cell_type": "code",
   "execution_count": 17,
   "id": "fdd66a3c-353b-491e-aa1f-c5c1b0620bad",
   "metadata": {},
   "outputs": [
    {
     "data": {
      "text/plain": [
       "float"
      ]
     },
     "execution_count": 17,
     "metadata": {},
     "output_type": "execute_result"
    }
   ],
   "source": [
    "type(c)"
   ]
  },
  {
   "cell_type": "code",
   "execution_count": 18,
   "id": "21780798-4261-42d0-81f3-b06d901ae3a9",
   "metadata": {},
   "outputs": [],
   "source": [
    "d=5j+6"
   ]
  },
  {
   "cell_type": "code",
   "execution_count": 19,
   "id": "f9f7f17b-bc93-4d79-9062-4962a2141d86",
   "metadata": {},
   "outputs": [
    {
     "data": {
      "text/plain": [
       "complex"
      ]
     },
     "execution_count": 19,
     "metadata": {},
     "output_type": "execute_result"
    }
   ],
   "source": [
    "type(d)"
   ]
  },
  {
   "cell_type": "code",
   "execution_count": 22,
   "id": "ae42a233-9387-456f-b5ea-ed170866a6e0",
   "metadata": {},
   "outputs": [],
   "source": [
    "e= True"
   ]
  },
  {
   "cell_type": "code",
   "execution_count": 23,
   "id": "7ace7a14-7ea2-4628-9a78-32e521cc9c65",
   "metadata": {},
   "outputs": [
    {
     "data": {
      "text/plain": [
       "bool"
      ]
     },
     "execution_count": 23,
     "metadata": {},
     "output_type": "execute_result"
    }
   ],
   "source": [
    "type(e)"
   ]
  },
  {
   "cell_type": "code",
   "execution_count": 24,
   "id": "df58efac-cb13-4ddc-a3be-1e199a2a1563",
   "metadata": {},
   "outputs": [],
   "source": [
    "a=10 #integer\n",
    "b=\"asdfghj\" #string\n",
    "c=True #boolean\n",
    "d=54.76 #float"
   ]
  },
  {
   "cell_type": "code",
   "execution_count": 25,
   "id": "007d49ca-4656-4169-9f05-f5ee170dd715",
   "metadata": {},
   "outputs": [],
   "source": [
    "a,b,c,d=20, True, 54, \"asdf\""
   ]
  },
  {
   "cell_type": "code",
   "execution_count": 26,
   "id": "9f30bcfe-db3e-4ab3-9105-9cd86fbba197",
   "metadata": {},
   "outputs": [],
   "source": [
    "x= 5j+6"
   ]
  },
  {
   "cell_type": "code",
   "execution_count": 27,
   "id": "6fb9face-95ba-4262-a381-b88415eb3d99",
   "metadata": {},
   "outputs": [
    {
     "data": {
      "text/plain": [
       "5.0"
      ]
     },
     "execution_count": 27,
     "metadata": {},
     "output_type": "execute_result"
    }
   ],
   "source": [
    "x.imag"
   ]
  },
  {
   "cell_type": "code",
   "execution_count": 28,
   "id": "c36efa40-87f4-4424-a0e0-03ffbcb456a5",
   "metadata": {},
   "outputs": [
    {
     "data": {
      "text/plain": [
       "6.0"
      ]
     },
     "execution_count": 28,
     "metadata": {},
     "output_type": "execute_result"
    }
   ],
   "source": [
    "x.real"
   ]
  },
  {
   "cell_type": "code",
   "execution_count": 29,
   "id": "28dc83eb-7aff-4ba9-a4d9-d7e51f952f6d",
   "metadata": {},
   "outputs": [
    {
     "data": {
      "text/plain": [
       "<function complex.conjugate()>"
      ]
     },
     "execution_count": 29,
     "metadata": {},
     "output_type": "execute_result"
    }
   ],
   "source": [
    "x.conjugate"
   ]
  },
  {
   "cell_type": "code",
   "execution_count": 31,
   "id": "3e1af045-137a-4c80-a22a-97063bd07894",
   "metadata": {},
   "outputs": [],
   "source": [
    "a=\"kjhg\""
   ]
  },
  {
   "cell_type": "code",
   "execution_count": 33,
   "id": "77a89b38-6642-4dd1-999d-8f372b83b3d5",
   "metadata": {},
   "outputs": [
    {
     "data": {
      "text/plain": [
       "'kjhg4'"
      ]
     },
     "execution_count": 33,
     "metadata": {},
     "output_type": "execute_result"
    }
   ],
   "source": [
    "a+\"4\""
   ]
  },
  {
   "cell_type": "code",
   "execution_count": 34,
   "id": "c80b9510-c7a2-478e-af2d-ec8e83a94c87",
   "metadata": {},
   "outputs": [],
   "source": [
    "w= 10\n"
   ]
  },
  {
   "cell_type": "code",
   "execution_count": 41,
   "id": "3f662b48-abcc-4fc2-b0ce-f052bb363963",
   "metadata": {},
   "outputs": [],
   "source": [
    "z=int(\"123\")"
   ]
  },
  {
   "cell_type": "code",
   "execution_count": 42,
   "id": "453b7d38-d537-435b-8fa6-0036999ca7e7",
   "metadata": {},
   "outputs": [
    {
     "data": {
      "text/plain": [
       "133"
      ]
     },
     "execution_count": 42,
     "metadata": {},
     "output_type": "execute_result"
    }
   ],
   "source": [
    "w+z"
   ]
  },
  {
   "cell_type": "code",
   "execution_count": 43,
   "id": "be78dc07-7c43-4d32-9cb0-39ba30fee672",
   "metadata": {},
   "outputs": [],
   "source": [
    "x=bool(\"hello\")"
   ]
  },
  {
   "cell_type": "code",
   "execution_count": 47,
   "id": "72bcec0f-c802-431a-add8-e1c77468d803",
   "metadata": {},
   "outputs": [
    {
     "data": {
      "text/plain": [
       "True"
      ]
     },
     "execution_count": 47,
     "metadata": {},
     "output_type": "execute_result"
    }
   ],
   "source": [
    "bool(x)"
   ]
  },
  {
   "cell_type": "code",
   "execution_count": 51,
   "id": "aa5e2625-9b54-4a3d-85e1-b9063a4c2b4d",
   "metadata": {},
   "outputs": [
    {
     "data": {
      "text/plain": [
       "'kjhgkjhg'"
      ]
     },
     "execution_count": 51,
     "metadata": {},
     "output_type": "execute_result"
    }
   ],
   "source": [
    "a*2"
   ]
  },
  {
   "cell_type": "code",
   "execution_count": 52,
   "id": "5d82fc40-0a8a-4ab0-a9ed-0d35e8670fce",
   "metadata": {},
   "outputs": [
    {
     "data": {
      "text/plain": [
       "2"
      ]
     },
     "execution_count": 52,
     "metadata": {},
     "output_type": "execute_result"
    }
   ],
   "source": [
    "True + True"
   ]
  },
  {
   "cell_type": "code",
   "execution_count": 53,
   "id": "0de4f848-118e-4328-8e13-bd1e202599f0",
   "metadata": {},
   "outputs": [
    {
     "data": {
      "text/plain": [
       "1"
      ]
     },
     "execution_count": 53,
     "metadata": {},
     "output_type": "execute_result"
    }
   ],
   "source": [
    "False+True"
   ]
  },
  {
   "cell_type": "code",
   "execution_count": 56,
   "id": "d3b29cec-25e5-4dca-a72e-73b6e61d0464",
   "metadata": {},
   "outputs": [
    {
     "name": "stdin",
     "output_type": "stream",
     "text": [
      " 45\n"
     ]
    }
   ],
   "source": [
    "a=input()"
   ]
  },
  {
   "cell_type": "code",
   "execution_count": 58,
   "id": "4fecfa48-a45d-4bcd-bdd6-62345015a651",
   "metadata": {},
   "outputs": [
    {
     "ename": "TypeError",
     "evalue": "can only concatenate str (not \"int\") to str",
     "output_type": "error",
     "traceback": [
      "\u001b[1;31m---------------------------------------------------------------------------\u001b[0m",
      "\u001b[1;31mTypeError\u001b[0m                                 Traceback (most recent call last)",
      "Cell \u001b[1;32mIn[58], line 1\u001b[0m\n\u001b[1;32m----> 1\u001b[0m \u001b[43ma\u001b[49m\u001b[38;5;241;43m+\u001b[39;49m\u001b[38;5;241;43m10\u001b[39;49m\n",
      "\u001b[1;31mTypeError\u001b[0m: can only concatenate str (not \"int\") to str"
     ]
    }
   ],
   "source": [
    "a+10"
   ]
  },
  {
   "cell_type": "code",
   "execution_count": 59,
   "id": "c25907a4-ea7a-4f76-a3d6-1480c66d4b53",
   "metadata": {},
   "outputs": [
    {
     "data": {
      "text/plain": [
       "55"
      ]
     },
     "execution_count": 59,
     "metadata": {},
     "output_type": "execute_result"
    }
   ],
   "source": [
    "int(a)+10"
   ]
  },
  {
   "cell_type": "code",
   "execution_count": 62,
   "id": "254cc076-494e-419a-9441-97467202f4a0",
   "metadata": {},
   "outputs": [],
   "source": [
    "#type casting\n",
    "a=int(5.75)\n",
    "b=int(\"123456\")\n",
    "c=str(3456)"
   ]
  },
  {
   "cell_type": "code",
   "execution_count": 63,
   "id": "17b7360f-df68-4223-a658-d8f9cf882e44",
   "metadata": {},
   "outputs": [
    {
     "data": {
      "text/plain": [
       "5"
      ]
     },
     "execution_count": 63,
     "metadata": {},
     "output_type": "execute_result"
    }
   ],
   "source": [
    "a"
   ]
  },
  {
   "cell_type": "code",
   "execution_count": 64,
   "id": "ed3c1f6f-c489-4434-b0d8-7f6e90a9cbf3",
   "metadata": {},
   "outputs": [
    {
     "data": {
      "text/plain": [
       "123456"
      ]
     },
     "execution_count": 64,
     "metadata": {},
     "output_type": "execute_result"
    }
   ],
   "source": [
    "b"
   ]
  },
  {
   "cell_type": "code",
   "execution_count": 65,
   "id": "686e9bf2-25dd-4b98-b5e5-29b1881339ca",
   "metadata": {},
   "outputs": [
    {
     "data": {
      "text/plain": [
       "'3456'"
      ]
     },
     "execution_count": 65,
     "metadata": {},
     "output_type": "execute_result"
    }
   ],
   "source": [
    "c"
   ]
  },
  {
   "cell_type": "code",
   "execution_count": 69,
   "id": "dfa23167-3b99-4edd-b26d-5c7057d427c3",
   "metadata": {},
   "outputs": [
    {
     "name": "stdin",
     "output_type": "stream",
     "text": [
      "enter a 1st number  35\n",
      "enter a 2nd number 10\n"
     ]
    }
   ],
   "source": [
    "a=int(input('enter a 1st number '))\n",
    "b=int(input('enter a 2nd number'))\n",
    "add=a+b\n",
    "sub=a-b\n",
    "mul=a*b\n",
    "div=a/b"
   ]
  },
  {
   "cell_type": "code",
   "execution_count": 70,
   "id": "559c6213-e213-48af-8a63-2df4ea02cf20",
   "metadata": {},
   "outputs": [
    {
     "data": {
      "text/plain": [
       "45"
      ]
     },
     "execution_count": 70,
     "metadata": {},
     "output_type": "execute_result"
    }
   ],
   "source": [
    "add"
   ]
  },
  {
   "cell_type": "code",
   "execution_count": 71,
   "id": "3917e90e-9bb2-435b-a289-ffec0a6cc9f0",
   "metadata": {},
   "outputs": [
    {
     "data": {
      "text/plain": [
       "25"
      ]
     },
     "execution_count": 71,
     "metadata": {},
     "output_type": "execute_result"
    }
   ],
   "source": [
    "sub"
   ]
  },
  {
   "cell_type": "code",
   "execution_count": 72,
   "id": "381518eb-04b5-4a17-80a4-7d810218eb46",
   "metadata": {},
   "outputs": [
    {
     "data": {
      "text/plain": [
       "350"
      ]
     },
     "execution_count": 72,
     "metadata": {},
     "output_type": "execute_result"
    }
   ],
   "source": [
    "mul"
   ]
  },
  {
   "cell_type": "code",
   "execution_count": 73,
   "id": "fd71820e-8201-443d-bd2e-a461f9fdfb8c",
   "metadata": {},
   "outputs": [
    {
     "data": {
      "text/plain": [
       "3.5"
      ]
     },
     "execution_count": 73,
     "metadata": {},
     "output_type": "execute_result"
    }
   ],
   "source": [
    "div"
   ]
  },
  {
   "cell_type": "markdown",
   "id": "d9d2ce36-36d8-4694-8e15-f39de9a97037",
   "metadata": {},
   "source": [
    "### String"
   ]
  },
  {
   "cell_type": "code",
   "execution_count": 1,
   "id": "ab20f82e-36c9-4f66-9f2d-83f0a67cda17",
   "metadata": {},
   "outputs": [
    {
     "data": {
      "text/plain": [
       "str"
      ]
     },
     "execution_count": 1,
     "metadata": {},
     "output_type": "execute_result"
    }
   ],
   "source": [
    "s=\"tripura\"\n",
    "type(s)"
   ]
  },
  {
   "cell_type": "code",
   "execution_count": 7,
   "id": "760e841d-58b6-44d7-95ae-6af09638c19c",
   "metadata": {},
   "outputs": [
    {
     "data": {
      "text/plain": [
       "'i'"
      ]
     },
     "execution_count": 7,
     "metadata": {},
     "output_type": "execute_result"
    }
   ],
   "source": [
    "s[2]"
   ]
  },
  {
   "cell_type": "code",
   "execution_count": 8,
   "id": "80b062c1-89bc-4462-8698-789dde090424",
   "metadata": {},
   "outputs": [
    {
     "data": {
      "text/plain": [
       "'tri'"
      ]
     },
     "execution_count": 8,
     "metadata": {},
     "output_type": "execute_result"
    }
   ],
   "source": [
    "s[0:3]"
   ]
  },
  {
   "cell_type": "code",
   "execution_count": 9,
   "id": "e145b9f5-30bb-4663-bd36-bb8e440d0cec",
   "metadata": {},
   "outputs": [
    {
     "data": {
      "text/plain": [
       "'tripura'"
      ]
     },
     "execution_count": 9,
     "metadata": {},
     "output_type": "execute_result"
    }
   ],
   "source": [
    "s[0:]"
   ]
  },
  {
   "cell_type": "code",
   "execution_count": 32,
   "id": "417b4bc6-7ee9-4469-9a15-529a8bcfa93e",
   "metadata": {},
   "outputs": [
    {
     "data": {
      "text/plain": [
       "'arupirt'"
      ]
     },
     "execution_count": 32,
     "metadata": {},
     "output_type": "execute_result"
    }
   ],
   "source": [
    "s[::-1]"
   ]
  },
  {
   "cell_type": "code",
   "execution_count": 26,
   "id": "050d92de-78d1-481e-8590-884998331633",
   "metadata": {},
   "outputs": [
    {
     "data": {
      "text/plain": [
       "'pirt'"
      ]
     },
     "execution_count": 26,
     "metadata": {},
     "output_type": "execute_result"
    }
   ],
   "source": [
    "s[-4::-1]"
   ]
  },
  {
   "cell_type": "code",
   "execution_count": 28,
   "id": "ec781cb1-aecb-4a35-8d2e-1c7f6b3f25ef",
   "metadata": {},
   "outputs": [
    {
     "data": {
      "text/plain": [
       "'r'"
      ]
     },
     "execution_count": 28,
     "metadata": {},
     "output_type": "execute_result"
    }
   ],
   "source": [
    "s[-2::-6]"
   ]
  },
  {
   "cell_type": "code",
   "execution_count": 34,
   "id": "efb827b7-31ec-447f-a38d-cc4a154886d6",
   "metadata": {},
   "outputs": [
    {
     "data": {
      "text/plain": [
       "'tripura'"
      ]
     },
     "execution_count": 34,
     "metadata": {},
     "output_type": "execute_result"
    }
   ],
   "source": [
    "s[:7:]"
   ]
  },
  {
   "cell_type": "code",
   "execution_count": 39,
   "id": "64ccfc3b-e8a6-4a7f-bf25-07428f67ced6",
   "metadata": {},
   "outputs": [
    {
     "data": {
      "text/plain": [
       "'aru'"
      ]
     },
     "execution_count": 39,
     "metadata": {},
     "output_type": "execute_result"
    }
   ],
   "source": [
    "s[-1:-4:-1]"
   ]
  },
  {
   "cell_type": "code",
   "execution_count": 43,
   "id": "94deaf03-0796-468b-b741-dafff0300d9f",
   "metadata": {},
   "outputs": [
    {
     "data": {
      "text/plain": [
       "'tripura'"
      ]
     },
     "execution_count": 43,
     "metadata": {},
     "output_type": "execute_result"
    }
   ],
   "source": [
    "s[-7:]"
   ]
  },
  {
   "cell_type": "code",
   "execution_count": 45,
   "id": "7ed31876-5444-4021-b165-97c62630fa29",
   "metadata": {},
   "outputs": [
    {
     "data": {
      "text/plain": [
       "'pura'"
      ]
     },
     "execution_count": 45,
     "metadata": {},
     "output_type": "execute_result"
    }
   ],
   "source": [
    "s[-4:]"
   ]
  },
  {
   "cell_type": "code",
   "execution_count": 46,
   "id": "e7bb4702-1ee8-4271-ab7a-49d1ce96a59a",
   "metadata": {},
   "outputs": [
    {
     "data": {
      "text/plain": [
       "'arupirt'"
      ]
     },
     "execution_count": 46,
     "metadata": {},
     "output_type": "execute_result"
    }
   ],
   "source": [
    "s[-1::-1]"
   ]
  },
  {
   "cell_type": "code",
   "execution_count": 51,
   "id": "81544dfa-a8ae-4933-8b47-12e4fd9f0885",
   "metadata": {},
   "outputs": [],
   "source": [
    "a=\"my name is tripura shamshabad\""
   ]
  },
  {
   "cell_type": "code",
   "execution_count": 56,
   "id": "2488ddaf-f1e3-4f40-a613-3b5e035858c4",
   "metadata": {},
   "outputs": [
    {
     "data": {
      "text/plain": [
       "8"
      ]
     },
     "execution_count": 56,
     "metadata": {},
     "output_type": "execute_result"
    }
   ],
   "source": [
    "a.find('i')"
   ]
  },
  {
   "cell_type": "code",
   "execution_count": 57,
   "id": "28edf101-429d-438d-ac1f-35e4b1c1523b",
   "metadata": {},
   "outputs": [
    {
     "data": {
      "text/plain": [
       "-1"
      ]
     },
     "execution_count": 57,
     "metadata": {},
     "output_type": "execute_result"
    }
   ],
   "source": [
    "a.find('ei')"
   ]
  },
  {
   "cell_type": "code",
   "execution_count": 58,
   "id": "a2996bed-eaa5-4833-b268-730924f26200",
   "metadata": {},
   "outputs": [
    {
     "data": {
      "text/plain": [
       "2"
      ]
     },
     "execution_count": 58,
     "metadata": {},
     "output_type": "execute_result"
    }
   ],
   "source": [
    "a.count('i')"
   ]
  },
  {
   "cell_type": "code",
   "execution_count": 59,
   "id": "2a693707-483b-46e0-a118-98971eb8e446",
   "metadata": {},
   "outputs": [
    {
     "data": {
      "text/plain": [
       "1"
      ]
     },
     "execution_count": 59,
     "metadata": {},
     "output_type": "execute_result"
    }
   ],
   "source": [
    "a.count('n')"
   ]
  },
  {
   "cell_type": "code",
   "execution_count": 60,
   "id": "1c625550-5dd2-4899-8da2-e0ddd90657bd",
   "metadata": {},
   "outputs": [],
   "source": [
    "l=a.split()"
   ]
  },
  {
   "cell_type": "code",
   "execution_count": 61,
   "id": "7520917e-c88d-4850-ad79-6e166d467a90",
   "metadata": {},
   "outputs": [
    {
     "data": {
      "text/plain": [
       "['my', 'name', 'is', 'tripura', 'shamshabad']"
      ]
     },
     "execution_count": 61,
     "metadata": {},
     "output_type": "execute_result"
    }
   ],
   "source": [
    "l"
   ]
  },
  {
   "cell_type": "code",
   "execution_count": 62,
   "id": "3c27e922-502f-4c33-8976-d5da239de55a",
   "metadata": {},
   "outputs": [
    {
     "data": {
      "text/plain": [
       "'my'"
      ]
     },
     "execution_count": 62,
     "metadata": {},
     "output_type": "execute_result"
    }
   ],
   "source": [
    "l[0]"
   ]
  },
  {
   "cell_type": "code",
   "execution_count": 63,
   "id": "6c21bb0e-9c87-4797-998a-8fd63048beb0",
   "metadata": {},
   "outputs": [
    {
     "data": {
      "text/plain": [
       "'name'"
      ]
     },
     "execution_count": 63,
     "metadata": {},
     "output_type": "execute_result"
    }
   ],
   "source": [
    "l[1]"
   ]
  },
  {
   "cell_type": "code",
   "execution_count": 68,
   "id": "7f64ac10-38b1-42a4-8f5b-00bbcef58cb0",
   "metadata": {},
   "outputs": [],
   "source": [
    "x=a.split('i')"
   ]
  },
  {
   "cell_type": "code",
   "execution_count": 69,
   "id": "4ee9f8e0-a976-4e98-bb7b-eeb585550eb0",
   "metadata": {},
   "outputs": [
    {
     "data": {
      "text/plain": [
       "['my name ', 's tr', 'pura shamshabad']"
      ]
     },
     "execution_count": 69,
     "metadata": {},
     "output_type": "execute_result"
    }
   ],
   "source": [
    "x"
   ]
  },
  {
   "cell_type": "code",
   "execution_count": 71,
   "id": "21948130-dd02-48af-9099-a3880f50c658",
   "metadata": {},
   "outputs": [
    {
     "data": {
      "text/plain": [
       "'my name '"
      ]
     },
     "execution_count": 71,
     "metadata": {},
     "output_type": "execute_result"
    }
   ],
   "source": [
    "x[0]"
   ]
  },
  {
   "cell_type": "code",
   "execution_count": 72,
   "id": "27b34a78-dbe4-4021-93dd-5ab3676ea9fb",
   "metadata": {},
   "outputs": [
    {
     "data": {
      "text/plain": [
       "'s tr'"
      ]
     },
     "execution_count": 72,
     "metadata": {},
     "output_type": "execute_result"
    }
   ],
   "source": [
    "x[1]"
   ]
  },
  {
   "cell_type": "code",
   "execution_count": 73,
   "id": "dfc368e6-5e2f-4b03-ac8e-d7dd79c5edc0",
   "metadata": {},
   "outputs": [],
   "source": [
    "c=\"aBCD\""
   ]
  },
  {
   "cell_type": "code",
   "execution_count": 74,
   "id": "ef490eb4-ef17-419c-bdee-92e9688a1311",
   "metadata": {},
   "outputs": [
    {
     "data": {
      "text/plain": [
       "'Abcd'"
      ]
     },
     "execution_count": 74,
     "metadata": {},
     "output_type": "execute_result"
    }
   ],
   "source": [
    "c.swapcase()"
   ]
  },
  {
   "cell_type": "code",
   "execution_count": 75,
   "id": "b15fd907-16d7-4b5f-8cc9-6f02adfd51a2",
   "metadata": {},
   "outputs": [
    {
     "data": {
      "text/plain": [
       "'ABCD'"
      ]
     },
     "execution_count": 75,
     "metadata": {},
     "output_type": "execute_result"
    }
   ],
   "source": [
    "c.upper()"
   ]
  },
  {
   "cell_type": "code",
   "execution_count": 76,
   "id": "27db1080-5cec-416e-872e-cdc7c216a634",
   "metadata": {},
   "outputs": [
    {
     "data": {
      "text/plain": [
       "'my name is tripura shamshabad'"
      ]
     },
     "execution_count": 76,
     "metadata": {},
     "output_type": "execute_result"
    }
   ],
   "source": [
    "a.lower()"
   ]
  },
  {
   "cell_type": "code",
   "execution_count": 78,
   "id": "0816890c-850a-4315-af51-562d15afa046",
   "metadata": {},
   "outputs": [],
   "source": [
    "s=a.title()"
   ]
  },
  {
   "cell_type": "code",
   "execution_count": 79,
   "id": "d03ddff4-e999-425b-bd94-ec5468bc6d7b",
   "metadata": {},
   "outputs": [
    {
     "data": {
      "text/plain": [
       "'My Name Is Tripura Shamshabad'"
      ]
     },
     "execution_count": 79,
     "metadata": {},
     "output_type": "execute_result"
    }
   ],
   "source": [
    "s"
   ]
  },
  {
   "cell_type": "code",
   "execution_count": 80,
   "id": "1593016f-5173-45ac-bc4f-3f0bf64cc5d4",
   "metadata": {},
   "outputs": [
    {
     "data": {
      "text/plain": [
       "'mY nAME iS tRIPURA sHAMSHABAD'"
      ]
     },
     "execution_count": 80,
     "metadata": {},
     "output_type": "execute_result"
    }
   ],
   "source": [
    "s.swapcase()"
   ]
  },
  {
   "cell_type": "code",
   "execution_count": 81,
   "id": "1b254ebb-4814-4837-912e-80622c6b5ef9",
   "metadata": {},
   "outputs": [],
   "source": [
    "a='tripura'\n",
    "b='shamshabad'"
   ]
  },
  {
   "cell_type": "code",
   "execution_count": 83,
   "id": "190f722d-b36e-4583-99f4-d1f2c3192b79",
   "metadata": {},
   "outputs": [
    {
     "data": {
      "text/plain": [
       "'stripurahtripuraatripuramtripurastripurahtripuraatripurabtripuraatripurad'"
      ]
     },
     "execution_count": 83,
     "metadata": {},
     "output_type": "execute_result"
    }
   ],
   "source": [
    "a.join(b)"
   ]
  },
  {
   "cell_type": "code",
   "execution_count": 86,
   "id": "cfc770dd-c53a-4905-adc3-9d7aa5e01bb6",
   "metadata": {},
   "outputs": [
    {
     "name": "stdout",
     "output_type": "stream",
     "text": [
      "d\n",
      "a\n",
      "b\n",
      "a\n",
      "h\n",
      "s\n",
      "m\n",
      "a\n",
      "h\n",
      "s\n"
     ]
    }
   ],
   "source": [
    "for i in reversed(b):\n",
    "    print(i)"
   ]
  },
  {
   "cell_type": "code",
   "execution_count": 87,
   "id": "9337a3d4-c780-446e-adb2-ab5fa78f9a54",
   "metadata": {},
   "outputs": [
    {
     "data": {
      "text/plain": [
       "'dabahsmahs'"
      ]
     },
     "execution_count": 87,
     "metadata": {},
     "output_type": "execute_result"
    }
   ],
   "source": [
    "b[::-1]"
   ]
  },
  {
   "cell_type": "code",
   "execution_count": 89,
   "id": "6041aedb-728e-4365-9ad3-1f4b8a430327",
   "metadata": {},
   "outputs": [
    {
     "data": {
      "text/plain": [
       "' swap'"
      ]
     },
     "execution_count": 89,
     "metadata": {},
     "output_type": "execute_result"
    }
   ],
   "source": [
    "w=\" swap \"\n",
    "w.rstrip()"
   ]
  },
  {
   "cell_type": "code",
   "execution_count": 90,
   "id": "7fa5bd58-f06c-4390-a313-c789f69530b4",
   "metadata": {},
   "outputs": [
    {
     "data": {
      "text/plain": [
       "'swap '"
      ]
     },
     "execution_count": 90,
     "metadata": {},
     "output_type": "execute_result"
    }
   ],
   "source": [
    "w.lstrip()"
   ]
  },
  {
   "cell_type": "code",
   "execution_count": 91,
   "id": "83cb40d2-300d-4baf-a9bf-ad7972376bb1",
   "metadata": {},
   "outputs": [
    {
     "data": {
      "text/plain": [
       "'swap'"
      ]
     },
     "execution_count": 91,
     "metadata": {},
     "output_type": "execute_result"
    }
   ],
   "source": [
    "w.strip()"
   ]
  },
  {
   "cell_type": "code",
   "execution_count": 1,
   "id": "25b1d05f-676c-45f1-9971-49c40368c9da",
   "metadata": {},
   "outputs": [],
   "source": [
    "s=\"sudh\""
   ]
  },
  {
   "cell_type": "code",
   "execution_count": 2,
   "id": "38e54788-c5d3-4ff0-b023-865062648b25",
   "metadata": {},
   "outputs": [
    {
     "data": {
      "text/plain": [
       "False"
      ]
     },
     "execution_count": 2,
     "metadata": {},
     "output_type": "execute_result"
    }
   ],
   "source": [
    "s.isupper()"
   ]
  },
  {
   "cell_type": "code",
   "execution_count": 3,
   "id": "83cbd155-feb3-435d-b0db-3ea189373a7a",
   "metadata": {},
   "outputs": [
    {
     "data": {
      "text/plain": [
       "True"
      ]
     },
     "execution_count": 3,
     "metadata": {},
     "output_type": "execute_result"
    }
   ],
   "source": [
    "s.islower()"
   ]
  },
  {
   "cell_type": "code",
   "execution_count": 4,
   "id": "49d95922-cdad-41de-9754-b6397482b7a5",
   "metadata": {},
   "outputs": [],
   "source": [
    "a=\"     \""
   ]
  },
  {
   "cell_type": "code",
   "execution_count": 5,
   "id": "d40a4ff9-bcf8-4046-8178-ed72a7d4856c",
   "metadata": {},
   "outputs": [
    {
     "data": {
      "text/plain": [
       "True"
      ]
     },
     "execution_count": 5,
     "metadata": {},
     "output_type": "execute_result"
    }
   ],
   "source": [
    "a.isspace()"
   ]
  },
  {
   "cell_type": "code",
   "execution_count": 6,
   "id": "65573a71-b192-439b-82bb-57b3fe31d93e",
   "metadata": {},
   "outputs": [
    {
     "data": {
      "text/plain": [
       "False"
      ]
     },
     "execution_count": 6,
     "metadata": {},
     "output_type": "execute_result"
    }
   ],
   "source": [
    "s.isspace()"
   ]
  },
  {
   "cell_type": "code",
   "execution_count": 7,
   "id": "67781a84-9311-4cf6-9d8a-900010ecefdf",
   "metadata": {},
   "outputs": [
    {
     "data": {
      "text/plain": [
       "True"
      ]
     },
     "execution_count": 7,
     "metadata": {},
     "output_type": "execute_result"
    }
   ],
   "source": [
    "s.endswith(\"h\")"
   ]
  },
  {
   "cell_type": "code",
   "execution_count": 8,
   "id": "5eda1ef3-fd88-451b-a9c1-64553dcd2883",
   "metadata": {},
   "outputs": [
    {
     "data": {
      "text/plain": [
       "False"
      ]
     },
     "execution_count": 8,
     "metadata": {},
     "output_type": "execute_result"
    }
   ],
   "source": [
    "s.endswith(\"a\")"
   ]
  },
  {
   "cell_type": "code",
   "execution_count": 9,
   "id": "f25cf155-3396-4f9e-b238-e4ae5cebba14",
   "metadata": {},
   "outputs": [
    {
     "data": {
      "text/plain": [
       "True"
      ]
     },
     "execution_count": 9,
     "metadata": {},
     "output_type": "execute_result"
    }
   ],
   "source": [
    "s.startswith(\"s\")"
   ]
  },
  {
   "cell_type": "code",
   "execution_count": 10,
   "id": "44db7699-cedd-45a4-ac7a-e8465124c082",
   "metadata": {},
   "outputs": [
    {
     "data": {
      "text/plain": [
       "b'sudh'"
      ]
     },
     "execution_count": 10,
     "metadata": {},
     "output_type": "execute_result"
    }
   ],
   "source": [
    "s.encode()"
   ]
  },
  {
   "cell_type": "code",
   "execution_count": 31,
   "id": "4f20ab83-c5dd-47ae-ae1a-b1c751d868f7",
   "metadata": {},
   "outputs": [
    {
     "data": {
      "text/plain": [
       "'budh'"
      ]
     },
     "execution_count": 31,
     "metadata": {},
     "output_type": "execute_result"
    }
   ],
   "source": [
    "s.replace('s','b')"
   ]
  },
  {
   "cell_type": "code",
   "execution_count": null,
   "id": "189c875f-eab5-4598-9516-0528f21282c0",
   "metadata": {},
   "outputs": [],
   "source": []
  }
 ],
 "metadata": {
  "kernelspec": {
   "display_name": "Python 3 (ipykernel)",
   "language": "python",
   "name": "python3"
  },
  "language_info": {
   "codemirror_mode": {
    "name": "ipython",
    "version": 3
   },
   "file_extension": ".py",
   "mimetype": "text/x-python",
   "name": "python",
   "nbconvert_exporter": "python",
   "pygments_lexer": "ipython3",
   "version": "3.12.4"
  }
 },
 "nbformat": 4,
 "nbformat_minor": 5
}
